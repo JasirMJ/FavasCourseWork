{
 "cells": [
  {
   "cell_type": "markdown",
   "id": "69969f41",
   "metadata": {},
   "source": [
    "# 9. Files: Opening, Reading and Writing\n",
    "\n",
    "\n",
    "In the first assignmnet, you have experienced a real case in which you needed to use a part of the data available in steel profile tables. \n",
    "\n",
    "\n",
    "Instead of reading the data one-by-one and assigning them manually to the variables, we can read and save the whole data available in files just by one syntax.\n",
    "\n",
    "\n",
    "The first step to access to the data on the file is **opening** the file. We can open the files with different syntaxes.\n",
    "\n",
    "**The first way is using `open()` function with the following syntax:**\n",
    "\n",
    "\n",
    "`open(FILE_NAME,mode)`\n",
    "\n",
    "The first argument should be passed as **string**. \n",
    "\n",
    "The second argument, `mode`, represents what we need to perform  on the **opened files**. Passing the second argument is optional. The default is opening a file for reading. `mode` can be set as:\n",
    "\n",
    "-  `'r'`     only reading the exisiting file from the begining\n",
    "\n",
    "-  `'w'`     only writing in the exisiting file from the begining of the file. \n",
    "\n",
    "-  `'a'`     using the data on the file and adding some data at the end of the file\n",
    "\n",
    "-  `'r+'`    both reading the file and writing in the exisiting file.\n",
    "\n",
    "-  `'w+'`    creating a new file for both reading and writing from the begining \n",
    "\n",
    "-  `'a+'`    creating a new file for both reading and writing data at the end\n",
    "\n",
    "\n",
    "|              mode                        |   r   |   r+   |  w   |   w+  |  a   |  a+  |\n",
    "|     :--------------------:               |  :--: |  :--:  | :--: | :--:  | :--: | :--: |\n",
    "|              Read                        |  yes  |   yes  |      |  yes  |      |  yes |\n",
    "|             Write                        |       |   yes  |  yes |  yes  |  yes |  yes |\n",
    "|             Create                       |       |        |  yes |  yes  |  yes |  yes |\n",
    "| Cursor at the beginning of the file      |  yes  |   yes  |  yes |  yes  |      |      |\n",
    "|    Curser at the end of the file         |       |        |      |       |  yes |  yes |\n"
   ]
  },
  {
   "cell_type": "code",
   "execution_count": null,
   "id": "3a98186b",
   "metadata": {},
   "outputs": [],
   "source": [
    "open('Week 06 file1','w')"
   ]
  },
  {
   "cell_type": "markdown",
   "id": "2f03a7a6",
   "metadata": {},
   "source": [
    "Check the current directory of your Jupyter nootbook. The file should be created after running the previous cell.\n",
    "\n",
    "Which information does the output give to us?\n",
    "\n",
    "**_io.TextIOWrapper**    :   Our file object is from class type of _io.TextIOWrapper<br>\n",
    "\n",
    "The class **_io.TextIOWrapper** provides **methods** and **attributes** which helps us to read or write data to and from the file. <br>\n",
    "\n",
    "  \n",
    "A **value** associated with an object and stored in a class is called an **attribute**. It is referenced by name using dotted expressions\n",
    "\n",
    "A **function** which is defined in a body of a class is called a **method**. The **methods** are **attributes** as well. Indirectly we refer to the **output value** of that **method** . But not all the attributes are methods.\n",
    "\n",
    "                          \n",
    "**name**                 :   As we defined <br>\n",
    "\n",
    "**mode**                 :   As we defined <br>\n",
    "\n",
    "**encoding = 'UTF-8'**   :   Unicode Transformation Format-8 bits<br>\n",
    "\n",
    "As the users of Python, we do not need to know these details! But  write it for you just to have an idea.\n",
    "Literally, encoding means treating everything (numbers, characters) with a specific code. In 'UTF-8' the 8-bit values are used for encoding.\n",
    "\n",
    "As an example: \n",
    "\n",
    " \n",
    "|            Character                      |    encoding   |                                  bits    |  \n",
    "|     :--------------------:                |      :--:     |                                  :--:    | \n",
    "|              A                            |     UTF-8     |                                01000001  |     \n",
    "|              A                            |     UTF-16    |                      00000000  01000001  | \n",
    "|              A                            |     UTF-32    |   00000000 00000000  00000000  01000001  |  \n",
    "\n",
    "\n"
   ]
  },
  {
   "cell_type": "code",
   "execution_count": null,
   "id": "3ed7c725",
   "metadata": {},
   "outputs": [],
   "source": [
    "type(open('Week 06 file1','w'))    #Getting the class type of our object"
   ]
  },
  {
   "cell_type": "markdown",
   "id": "571203cf",
   "metadata": {},
   "source": [
    "The output of the `open()` function is a **file-like object** or briefly **file object**. Another equivalent term is **stream**. When the output is **object**, it simply means if you assign the output of your function to a variable, python treats the variable as an object. \n"
   ]
  },
  {
   "cell_type": "code",
   "execution_count": null,
   "id": "c009e770",
   "metadata": {},
   "outputs": [],
   "source": [
    "file1 = open('Week 06 file1','w')"
   ]
  },
  {
   "cell_type": "markdown",
   "id": "a86d4842",
   "metadata": {},
   "source": [
    "`file1` is now a **file object**. "
   ]
  },
  {
   "cell_type": "markdown",
   "id": "77de1cde",
   "metadata": {},
   "source": [
    "Where have you heard the term **object** before? During the 4th week of the course!\n",
    "\n",
    "**Class object**        Shape\n",
    "\n",
    "**Instance object**     rectangle\n",
    "\n",
    "In order to know the syntax for performing operations on your **file object** you should review what you learned in the fourth week of the course focused on Class. As the second way you may memorize the syntax, which is not recommended!\n",
    "\n",
    "What is going on the following code from fourth session:"
   ]
  },
  {
   "cell_type": "code",
   "execution_count": null,
   "id": "5168a660",
   "metadata": {},
   "outputs": [],
   "source": [
    "# Code taken from Week 04 Exercise Jupyter notebook\n",
    "\n",
    "class Shape:\n",
    "    def __init__(self,x,y):\n",
    "        self.x = x\n",
    "        self.y = y\n",
    "    description = \"This shape has not been described yet\"\n",
    "    author = \"Nobody has claimed to make this shape yet\"\n",
    "    def area(self):\n",
    "        return self.x * self.y\n",
    "    def perimeter(self):\n",
    "        return 2 * self.x + 2 * self.y\n",
    "    def describe(self,text):\n",
    "        self.description = text\n",
    "    def authorName(self,text):\n",
    "        self.author = text\n",
    "    def scaleSize(self,scale):\n",
    "        self.x = self.x * scale\n",
    "        self.y = self.y * scale\n",
    "#Here the definiton of class ends        \n",
    "       \n",
    "\n",
    "#We want to generate an **instance object** with specific features. These features are accessible through\n",
    "#the definitons of a **class object** called Shape. Therefore, we use Shape as an **class object** and customize it \n",
    "#with our desired features\n",
    "rectangle = Shape(100,45)\n",
    "\n",
    "#Printing the area of your rectangle:\n",
    "print(rectangle.area())"
   ]
  },
  {
   "cell_type": "markdown",
   "id": "9f211d91",
   "metadata": {},
   "source": [
    "At the last line of the definiton of our class, **class object** named Shape is created.<br>\n",
    "An **instance object** named rectangle was created through the following line `rectangle = Shape(100,45)`\n",
    "\n",
    "In Python, `area()` is called a **method** for our class. So we could have access to it, and applying it on **instance object** named as rectangle using this syntax:\n",
    "\n",
    "`rectangle.area()`\n",
    "\n",
    "In addition, `x` is a variable or in the context of Python we call it **attribute**. The syntax to have access to it is as following :\n",
    "\n",
    "`self.x`    without any parenthese\n"
   ]
  },
  {
   "cell_type": "markdown",
   "id": "0e87b7d1",
   "metadata": {},
   "source": [
    "Now we start applying the same concept **on the file object** by using the same syntax. \n",
    "\n",
    "The **methods** of **_io.TextIOWrapper** class are:\n",
    "\n",
    "`write()`<br>\n",
    "`read()`<br>\n",
    "`readline()`<br>\n",
    "`readlines()`<br>\n",
    "`tell()`<br>\n",
    "`close()`<br>\n",
    "\n",
    "**Exercise 1**\n",
    "We will use an **attribute** (being considered as a value) of **_io.TextIOWrapper** class. At the end of the session come back here and write it here:\n",
    "<br>\n",
    "<br>\n",
    "<br>\n",
    "<br>\n",
    "\n",
    "Now it is the time to start using the **methods** for **file objects**!\n"
   ]
  },
  {
   "cell_type": "code",
   "execution_count": null,
   "id": "374fbf37",
   "metadata": {},
   "outputs": [],
   "source": [
    "file1 = open('Week 06 file1','w')"
   ]
  },
  {
   "cell_type": "code",
   "execution_count": null,
   "id": "bffe5c21",
   "metadata": {},
   "outputs": [],
   "source": [
    "file1.write(\"This is the first sentence of the generated file\")"
   ]
  },
  {
   "cell_type": "code",
   "execution_count": null,
   "id": "a0778e1f",
   "metadata": {},
   "outputs": [],
   "source": [
    "file1.write(\"This is the second sentence of the  generated file\")"
   ]
  },
  {
   "cell_type": "markdown",
   "id": "eb001efc",
   "metadata": {},
   "source": [
    "By using `write()` function, do not expect to see the written text on the screen! \n",
    "\n",
    "You should use the corresponding function for reading the file which is `read()`."
   ]
  },
  {
   "cell_type": "code",
   "execution_count": null,
   "id": "7adcdb29",
   "metadata": {},
   "outputs": [],
   "source": [
    "file1.read()"
   ]
  },
  {
   "cell_type": "markdown",
   "id": "20132e82",
   "metadata": {},
   "source": [
    "Why the file is not readable?\n",
    "\n",
    "How we can read the content of the file? Try it in the next cell."
   ]
  },
  {
   "cell_type": "code",
   "execution_count": null,
   "id": "ba77b41b",
   "metadata": {},
   "outputs": [],
   "source": [
    "file1 = open('Week 06 file1','r')"
   ]
  },
  {
   "cell_type": "code",
   "execution_count": null,
   "id": "e2e76624",
   "metadata": {},
   "outputs": [],
   "source": [
    "file1.readline(5)"
   ]
  },
  {
   "cell_type": "markdown",
   "id": "15011380",
   "metadata": {},
   "source": [
    "Repeat this syntax by running the next cell containg the same syntax. \n"
   ]
  },
  {
   "cell_type": "code",
   "execution_count": null,
   "id": "77b05d0d",
   "metadata": {},
   "outputs": [],
   "source": [
    "file1.readline(2)"
   ]
  },
  {
   "cell_type": "code",
   "execution_count": null,
   "id": "8e67b49f",
   "metadata": {},
   "outputs": [],
   "source": [
    "file1.readline(1)"
   ]
  },
  {
   "cell_type": "code",
   "execution_count": null,
   "id": "75b39d0a",
   "metadata": {},
   "outputs": [],
   "source": [
    "file1.readline(6)"
   ]
  },
  {
   "cell_type": "code",
   "execution_count": null,
   "id": "06d39f83",
   "metadata": {},
   "outputs": [],
   "source": [
    "file1.readline()"
   ]
  },
  {
   "cell_type": "code",
   "execution_count": null,
   "id": "62f53b83",
   "metadata": {},
   "outputs": [],
   "source": [
    "file1.readline()"
   ]
  },
  {
   "cell_type": "markdown",
   "id": "9cfe05f8",
   "metadata": {},
   "source": [
    "Now we are at the end of the available text in the file. Run the next cell:"
   ]
  },
  {
   "cell_type": "code",
   "execution_count": null,
   "id": "b2629af1",
   "metadata": {},
   "outputs": [],
   "source": [
    "file1.read()"
   ]
  },
  {
   "cell_type": "markdown",
   "id": "7dd8ba42",
   "metadata": {},
   "source": [
    "What does '' mean?\n",
    "\n",
    "When the end of a file is reached, you see '' as the output of `read()`and `readline()` function.\n",
    "\n",
    "**Keep this example in your mind when you are executing some operations on the file inside a loop! Repeating the use of `read()` and `readline()` function does not mean you start reading the file from the beginning.**"
   ]
  },
  {
   "cell_type": "code",
   "execution_count": null,
   "id": "d3fc4522",
   "metadata": {},
   "outputs": [],
   "source": [
    "file1.readlines()"
   ]
  },
  {
   "cell_type": "code",
   "execution_count": null,
   "id": "87635936",
   "metadata": {},
   "outputs": [],
   "source": [
    "file1_readable = open('Week 06 file1','r')\n",
    "\n",
    "print(\"readline() results in:\", file1_readable.readline())\n",
    "\n",
    "print(\"readlines() results in:\", file1_readable.readlines())"
   ]
  },
  {
   "cell_type": "code",
   "execution_count": null,
   "id": "478cfc89",
   "metadata": {},
   "outputs": [],
   "source": [
    "# Closing the opened file\n",
    "\n",
    "file1_readable.close()"
   ]
  },
  {
   "cell_type": "code",
   "execution_count": null,
   "id": "6a565b15",
   "metadata": {},
   "outputs": [],
   "source": [
    "# Checking whether the file is closed \n",
    "\n",
    "file1_readable.closed"
   ]
  },
  {
   "cell_type": "markdown",
   "id": "511ff92d",
   "metadata": {},
   "source": [
    "Read the code in the next cell. What do you expect?"
   ]
  },
  {
   "cell_type": "code",
   "execution_count": 14,
   "id": "ab1f1633",
   "metadata": {},
   "outputs": [
    {
     "data": {
      "text/plain": [
       "list"
      ]
     },
     "execution_count": 14,
     "metadata": {},
     "output_type": "execute_result"
    }
   ],
   "source": [
    "file2 = open('Week 06 file2','w+')\n",
    "\n",
    "file2.write(\"Learning programming needs practice!\\n\")\n",
    "file2.write(\"We do practice!\\n\")\n",
    "\n",
    "file2.readlines()"
   ]
  },
  {
   "cell_type": "code",
   "execution_count": 11,
   "id": "1cd96485",
   "metadata": {},
   "outputs": [
    {
     "data": {
      "text/plain": [
       "''"
      ]
     },
     "execution_count": 11,
     "metadata": {},
     "output_type": "execute_result"
    }
   ],
   "source": [
    "file2.read()"
   ]
  },
  {
   "cell_type": "code",
   "execution_count": 12,
   "id": "5aab50ba",
   "metadata": {},
   "outputs": [
    {
     "data": {
      "text/plain": [
       "''"
      ]
     },
     "execution_count": 12,
     "metadata": {},
     "output_type": "execute_result"
    }
   ],
   "source": [
    "file2.readline()"
   ]
  },
  {
   "cell_type": "markdown",
   "id": "e4345442",
   "metadata": {},
   "source": [
    "What is the meaning of the next cell ?"
   ]
  },
  {
   "cell_type": "code",
   "execution_count": 13,
   "id": "d3d3e924",
   "metadata": {},
   "outputs": [
    {
     "data": {
      "text/plain": [
       "'Learning programming needs practice!\\nWe do practice!\\n'"
      ]
     },
     "execution_count": 13,
     "metadata": {},
     "output_type": "execute_result"
    }
   ],
   "source": [
    "open('Week 06 file2','r').read()"
   ]
  },
  {
   "cell_type": "markdown",
   "id": "64c77879",
   "metadata": {},
   "source": [
    "Sometimes some unwanted characters (related to the encoding process in Python) are generated in your file while writing on that. \n",
    "I do not know how we can prevent it and in which specific situation this problem happens but you can use \n",
    "the following syntax to get rid of the undesired characters:\n",
    "\n",
    "```Python \n",
    "file2.readlines().replace('\\x00','')\n",
    "\n",
    "```\n",
    "\n",
    "The output of `readlines()` method is a list and `replace()` method should be used for a list. \n",
    "\n",
    "The easier but equivalent syntax is:\n",
    "\n",
    "```Python\n",
    "file22 = file2.readlines()\n",
    "file22.replace('\\x00','')\n",
    "```\n",
    "Do not forget to read your file from the begining, otherwise '\\x00' character cannot be found to be replaced!"
   ]
  },
  {
   "cell_type": "markdown",
   "id": "0edc73c5",
   "metadata": {},
   "source": [
    "**The second way to open a file is using `open()` function and `with` keyword.** The advantage compared to the first way is that, the file is automatically closed after being used. You do not need to use `close()` function to prevent unexpected changes. "
   ]
  },
  {
   "cell_type": "code",
   "execution_count": null,
   "id": "451a979d",
   "metadata": {},
   "outputs": [],
   "source": [
    "counter_write = 0\n",
    "counter_read = 0"
   ]
  },
  {
   "cell_type": "markdown",
   "id": "3098539f",
   "metadata": {},
   "source": [
    "If we run the next cell twice, what do we see on the screen?"
   ]
  },
  {
   "cell_type": "code",
   "execution_count": null,
   "id": "8e1d061b",
   "metadata": {},
   "outputs": [],
   "source": [
    "with open('Week 06 file2','w+') as file3:    #First run with 'w+` mode. Later, try it with 'a+' as well.\n",
    "    #Comment A\n",
    "    #print('After opening before writing, the position of find handles is:',file3.tell())\n",
    "    file3.write(\"We continue to learn!\\n\")\n",
    "    #Comment B \n",
    "    #print('After writing, the position of find handles is:',file3.tell())\n",
    "    \n",
    "counter_write = counter_write + 1\n",
    "print('counter_write is:',counter_write,'\\n')\n",
    "    \n",
    "with open('Week 06 file2') as file3:        #Remember that the default mode is 'r'\n",
    "    #Comment C\n",
    "    #print('After opening before reading, the position of find handles is:',file3.tell())\n",
    "    file3_content = file3.read()\n",
    "    #Comment D\n",
    "    #print('After reading, the position of find handles is:',file3.tell())\n",
    "\n",
    "\n",
    "    \n",
    "counter_read = counter_read + 1\n",
    "print('counter_read is:',counter_read,'\\n')\n",
    "    \n",
    "\n",
    "\n",
    "\n",
    "print(file3_content)                             #Printing the content of the file3\n",
    "\n",
    "\n",
    "#print(file3.read())      #Reading the content of file3 and printing it\n",
    "\n",
    "#print(file3)             #Printing file3 as the output of open() function which is file object\n",
    "        \n",
    "#file3.closed             #Checking whether the files is closed       "
   ]
  },
  {
   "cell_type": "markdown",
   "id": "84f7cefd",
   "metadata": {},
   "source": [
    "Now change the mode to `'a+'`, first run the cell for zero initialization of counters and run the preious cell again. What has been changed?"
   ]
  },
  {
   "cell_type": "markdown",
   "id": "fd71e72c",
   "metadata": {},
   "source": [
    "We can use `tell()` function to get the position of the curser in our file (file handle). \n",
    "Delete the commentend lines after #Comment A, #Comment B, #Comment C and #Comment D.\n",
    "Run the code to see how it works."
   ]
  },
  {
   "cell_type": "markdown",
   "id": "8d0e700b",
   "metadata": {},
   "source": [
    "Try it with the opening mode of 'a+' to see the difference!"
   ]
  },
  {
   "cell_type": "markdown",
   "id": "fc46487d",
   "metadata": {},
   "source": [
    "**Pay attention to the difference between these two sytanxes**:\n",
    "\n",
    "`file3.close()`       Here we do perform operation on file3. The operation is closing the file3.\n",
    "\n",
    "`file3.closed`        Here we check whether file3 is closed or not. The result is a boolean value: \n",
    "                      `True`  if it is closed \n",
    "                      `Flase` if it is not closed\n",
    "\n",
    "\n"
   ]
  },
  {
   "cell_type": "markdown",
   "id": "6f081c6a",
   "metadata": {},
   "source": [
    "**I would recommend you after reading this notebook, go through the Jupyter notebook labeled as 'Week 07 Exercise_Excel_CSV'.**"
   ]
  },
  {
   "cell_type": "code",
   "execution_count": null,
   "id": "eea474c3",
   "metadata": {},
   "outputs": [],
   "source": []
  }
 ],
 "metadata": {
  "kernelspec": {
   "display_name": "Python 3",
   "language": "python",
   "name": "python3"
  },
  "language_info": {
   "codemirror_mode": {
    "name": "ipython",
    "version": 3
   },
   "file_extension": ".py",
   "mimetype": "text/x-python",
   "name": "python",
   "nbconvert_exporter": "python",
   "pygments_lexer": "ipython3",
   "version": "3.8.8"
  }
 },
 "nbformat": 4,
 "nbformat_minor": 5
}

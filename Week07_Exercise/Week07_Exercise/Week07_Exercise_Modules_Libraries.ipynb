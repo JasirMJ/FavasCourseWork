{
 "cells": [
  {
   "cell_type": "markdown",
   "id": "71c777f0",
   "metadata": {},
   "source": [
    "# 10. Modules and Libraries\n",
    "\n",
    "## 10.1 Modules\n",
    "\n",
    "We have alreay seen more than one example where we gaines additional functionality/methods after using something like ```import random```.\n",
    "\n",
    "With the ```import``` statement we tell python to look for a module (or library) with that given name and make that accessible in the program.\n",
    "Python searches:\n",
    " * in the current directory\n",
    " * in some system wide defined folders\n",
    "\n",
    "So with calling:"
   ]
  },
  {
   "cell_type": "code",
   "execution_count": null,
   "id": "7147cc0c",
   "metadata": {},
   "outputs": [],
   "source": [
    "import Week07_Exercise_fortune"
   ]
  },
  {
   "cell_type": "markdown",
   "id": "0e78b305",
   "metadata": {},
   "source": [
    "we will include the module `Week07_Exercise_fortune.py` (the .py extension is allways omitted when importing some modules, since there are other extensions possible).\n",
    "\n",
    "Now let us take a look in the `Week07_Exercise_fortune.py` file."
   ]
  },
  {
   "cell_type": "markdown",
   "id": "594b7694",
   "metadata": {},
   "source": [
    "As we have seen, the `Week07_Exercise_fortune.py` is nothing special. Just a normal python program.\n",
    "So modules are a way to share code, that is used in different programs.\n",
    "\n",
    "How do we use the module? Just call a function inside the module with the name of the module prefixed (like using an object).\n",
    "Example:"
   ]
  },
  {
   "cell_type": "code",
   "execution_count": null,
   "id": "8cc64d2e",
   "metadata": {},
   "outputs": [],
   "source": [
    "Week07_Exercise_fortune.getCookie()"
   ]
  },
  {
   "cell_type": "markdown",
   "id": "27253597",
   "metadata": {},
   "source": [
    "I think that was easy.\n",
    "But the name of the module is quite inconvienient, so lets try this:"
   ]
  },
  {
   "cell_type": "code",
   "execution_count": null,
   "id": "e9269d74",
   "metadata": {},
   "outputs": [],
   "source": [
    "import Week07_Exercise_fortune as fortune"
   ]
  },
  {
   "cell_type": "markdown",
   "id": "fd58fb0b",
   "metadata": {},
   "source": [
    "This tells python to load the same module, but make it available under the name `fortune`, so getting a cookie is becomming easier:"
   ]
  },
  {
   "cell_type": "code",
   "execution_count": null,
   "id": "4766a94d",
   "metadata": {},
   "outputs": [],
   "source": [
    "fortune.getCookie()"
   ]
  },
  {
   "cell_type": "markdown",
   "id": "335fae76",
   "metadata": {},
   "source": [
    "So now we know to create and use simpe modules, but there is more."
   ]
  },
  {
   "cell_type": "markdown",
   "id": "6e0d3e18",
   "metadata": {},
   "source": [
    "## 10.2 Libraries\n",
    "\n",
    "Libraries - sometimes also calles packages - are basically a collection of modules for a specific purpose.\n",
    "The easiest way to imagine it is a folder/file annalogy.\n",
    "\n",
    " * Folder is a library\n",
    " * File is a module inside the library\n",
    "\n",
    "In addition python allows a librry to execute some code automatically while it is included, to be able to setup something required for using the library. The details required that python recognized a library are not relevant for this course, so we will skip them.\n",
    "The initialization part also allows including a whole library, not just a specific module from that library. \n",
    "\n",
    "As an example we can import the whole `random` library and use it:"
   ]
  },
  {
   "cell_type": "code",
   "execution_count": null,
   "id": "cfab75cf",
   "metadata": {},
   "outputs": [],
   "source": [
    "import random\n",
    "print(random.randrange(20))\n",
    "print(random.random())"
   ]
  },
  {
   "cell_type": "markdown",
   "id": "3c164666",
   "metadata": {},
   "source": [
    "But in some cases we do not want the whole library. Especially if the library is very large and you only want to use some small part from that it can save ressources.\n",
    "In that case we can use it this way:"
   ]
  },
  {
   "cell_type": "code",
   "execution_count": null,
   "id": "a092f193",
   "metadata": {},
   "outputs": [],
   "source": [
    "from random import randint\n",
    "randint(10,20)"
   ]
  },
  {
   "cell_type": "markdown",
   "id": "3f268b11",
   "metadata": {},
   "source": [
    "Going back to the filesystem analogy libraries can be divided into smaller libraries/folders inside the main library/folder.\n",
    "If you want to adress then a sub-library directly, you can use ```import main.sub``` syntax."
   ]
  },
  {
   "cell_type": "markdown",
   "id": "add01a8c",
   "metadata": {},
   "source": [
    "## 10.3 Popular libraries"
   ]
  },
  {
   "cell_type": "markdown",
   "id": "28862059",
   "metadata": {},
   "source": [
    "There are thousands of different python libraries. Popular repositories are [PiPi](https://pypi.org/) or [Conda](https://docs.conda.io/en/latest/).\n",
    "\n",
    "A few selected one will be presented in the following:\n",
    " * [Matplotlib](https://matplotlib.org/): Used to create graphs, charts, scatterplots, histrograms\n",
    " * [SQLAlchemy](https://www.sqlalchemy.org/): used to interact with SQL databaases\n",
    " * [OpenCV-Python](https://docs.opencv.org/4.x/d6/d00/tutorial_py_root.html): For different image processing and recognition tasks\n",
    " * [Keras](https://keras.io/): Library for deep learning\n",
    " * [Pandas](https://pandas.pydata.org/): For data anaysis und manipulation\n",
    " * [NumPy](https://numpy.org/): Large collection of Mathematicall functions. Optimized for speed. Implements arrays.\n",
    " "
   ]
  },
  {
   "cell_type": "markdown",
   "id": "449c8d9f",
   "metadata": {},
   "source": [
    "## 10.4 Using Mathplotlib\n",
    "\n",
    "To show how easy using a library can be, we will create a [pie chart](https://matplotlib.org/stable/api/_as_gen/matplotlib.pyplot.pie.html#matplotlib.pyplot.pie) using mathplotlib."
   ]
  },
  {
   "cell_type": "code",
   "execution_count": null,
   "id": "29b19e61",
   "metadata": {},
   "outputs": [],
   "source": [
    "import matplotlib.pyplot as plt\n",
    "\n",
    "# Pie chart, where the slices will be ordered and plotted counter-clockwise:\n",
    "labels = 'Lectures', 'Exercise', 'Doing it on your own'\n",
    "sizes = [15, 20, 65 ]  # the data\n",
    "explode = (0, 0, 0.2)  # only \"explode\" the 3rf slice\n",
    "\n",
    "fig1, ax1 = plt.subplots()\n",
    "ax1.set_title(\"Learning a computer language\")\n",
    "ax1.pie(sizes, explode=explode, labels=labels, autopct='%1.1f%%',\n",
    "        shadow=True, startangle=135)\n",
    "ax1.axis('equal')  # Equal aspect ratio ensures that pie is drawn as a circle.\n",
    "\n",
    "plt.show()\n"
   ]
  },
  {
   "cell_type": "markdown",
   "id": "ab15e5f4",
   "metadata": {},
   "source": [
    "Try to create a bar chart with the same message!"
   ]
  },
  {
   "cell_type": "code",
   "execution_count": null,
   "id": "58dd012b",
   "metadata": {},
   "outputs": [],
   "source": []
  }
 ],
 "metadata": {
  "kernelspec": {
   "display_name": "Python 3 (ipykernel)",
   "language": "python",
   "name": "python3"
  },
  "language_info": {
   "codemirror_mode": {
    "name": "ipython",
    "version": 3
   },
   "file_extension": ".py",
   "mimetype": "text/x-python",
   "name": "python",
   "nbconvert_exporter": "python",
   "pygments_lexer": "ipython3",
   "version": "3.7.3"
  }
 },
 "nbformat": 4,
 "nbformat_minor": 5
}

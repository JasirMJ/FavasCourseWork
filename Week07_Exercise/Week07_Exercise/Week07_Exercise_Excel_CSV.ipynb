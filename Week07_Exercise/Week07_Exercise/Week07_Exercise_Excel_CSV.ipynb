{
 "cells": [
  {
   "cell_type": "markdown",
   "id": "8d6911ba",
   "metadata": {},
   "source": [
    "# 9.1 Reading Excel sheets\n",
    "\n",
    "We need to import the `Pandas` library. `Pandas`has \n",
    "\n",
    "The two primary data structures of `Pandas`, **Series** (1-dimensional) and **DataFrame** (2-dimensional), handle the vast majority of typical use cases in finance, statistics, social science, and many areas of engineering.\n",
    "\n",
    "There are specific functions for reading excel file using Pandas library. The syntax is:\n",
    "\n",
    "```\n",
    "pandas.read_excel()\n",
    "```\n"
   ]
  },
  {
   "cell_type": "code",
   "execution_count": null,
   "id": "e8cb9f93",
   "metadata": {},
   "outputs": [],
   "source": [
    "import pandas as pd\n",
    "\n",
    "file4 = pd.read_excel('Digibau3_ExcelFile_old.xls')    \n",
    "\n",
    "file4_sheet2 = pd.read_excel('Digibau3_ExcelFile_old.xls', sheet_name='NewSheet')\n",
    "\n",
    "print(file4)\n",
    "\n"
   ]
  },
  {
   "cell_type": "code",
   "execution_count": null,
   "id": "7b5e268e",
   "metadata": {},
   "outputs": [],
   "source": [
    "print(file4_sheet2)"
   ]
  },
  {
   "cell_type": "code",
   "execution_count": null,
   "id": "be5b98d0",
   "metadata": {},
   "outputs": [],
   "source": [
    "file4.columns           #getting the label of the columns"
   ]
  },
  {
   "cell_type": "code",
   "execution_count": null,
   "id": "9cf2b0f2",
   "metadata": {},
   "outputs": [],
   "source": [
    "file4.columns[1]"
   ]
  },
  {
   "cell_type": "code",
   "execution_count": null,
   "id": "a6f8c568",
   "metadata": {},
   "outputs": [],
   "source": [
    "file4.index              #getting the number of rows"
   ]
  },
  {
   "cell_type": "code",
   "execution_count": null,
   "id": "7c0b273c",
   "metadata": {},
   "outputs": [],
   "source": [
    "len(file4.columns)      #getting the number of columns"
   ]
  },
  {
   "cell_type": "markdown",
   "id": "a9fe84b5",
   "metadata": {},
   "source": [
    "Run the next cell. Which property does it correspond to ?"
   ]
  },
  {
   "cell_type": "code",
   "execution_count": null,
   "id": "417a28bf",
   "metadata": {},
   "outputs": [],
   "source": [
    "file4.size"
   ]
  },
  {
   "cell_type": "code",
   "execution_count": null,
   "id": "b2c46fcd",
   "metadata": {},
   "outputs": [],
   "source": [
    "file4.values"
   ]
  },
  {
   "cell_type": "markdown",
   "id": "88f583c6",
   "metadata": {},
   "source": [
    "Compare this output with the output of `print(file4)`. What difference do you notice?\n",
    "\n",
    "\n",
    "\n",
    "But it is not recommended to have access to the values of a DataFrame in this way.\n",
    "\n",
    "Alternatively, it is recommended (by who? by the developers of **Pandas** library) to convert DataFrame to an Array through **NumPy** library. "
   ]
  },
  {
   "cell_type": "code",
   "execution_count": null,
   "id": "895ea787",
   "metadata": {},
   "outputs": [],
   "source": [
    "type(file4)\n",
    "#file4.to_numpy()"
   ]
  },
  {
   "cell_type": "code",
   "execution_count": null,
   "id": "623aa2d9",
   "metadata": {},
   "outputs": [],
   "source": [
    "file5 = file4.to_numpy()\n",
    "type(file5)"
   ]
  },
  {
   "cell_type": "code",
   "execution_count": null,
   "id": "589cc6c4",
   "metadata": {},
   "outputs": [],
   "source": [
    "file5[1]"
   ]
  },
  {
   "cell_type": "code",
   "execution_count": null,
   "id": "6ed1cfbe",
   "metadata": {},
   "outputs": [],
   "source": [
    "#It was not possible to do so on file4 as a DataFrame. Delete the comment and run it.\n",
    "\n",
    "#file4[1]"
   ]
  },
  {
   "cell_type": "code",
   "execution_count": null,
   "id": "5eba75ab",
   "metadata": {},
   "outputs": [],
   "source": [
    "#Alternative way to convert DataFrame to Array \n",
    "#Be careful, in the way you are using a function of NumPy, so firstly you have to import NumPy library\n",
    "\n",
    "import numpy as np\n",
    "\n",
    "file6 = np.array(file4)\n",
    "\n",
    "file6[0]"
   ]
  },
  {
   "cell_type": "code",
   "execution_count": null,
   "id": "165cb343",
   "metadata": {},
   "outputs": [],
   "source": [
    "#Getting the second column of file 6\n",
    "\n",
    "file6[:,1]"
   ]
  },
  {
   "cell_type": "markdown",
   "id": "80d6a0bb",
   "metadata": {},
   "source": [
    "How to get the first column of file6 by the label of this column? \n",
    "We know the label is 'Year'"
   ]
  },
  {
   "cell_type": "code",
   "execution_count": null,
   "id": "6ea83c11",
   "metadata": {},
   "outputs": [],
   "source": [
    "np.array(file4.Year)"
   ]
  },
  {
   "cell_type": "code",
   "execution_count": null,
   "id": "8d88faa7",
   "metadata": {},
   "outputs": [],
   "source": [
    "#Do you think it works or not?\n",
    "np.array(file4.per year Pressure)"
   ]
  },
  {
   "cell_type": "code",
   "execution_count": null,
   "id": "e8c297cb",
   "metadata": {},
   "outputs": [],
   "source": [
    "np.array(file4.peryeartemperature)"
   ]
  },
  {
   "cell_type": "markdown",
   "id": "d9536ed3",
   "metadata": {},
   "source": [
    "**Conclusion: Be careful about labelling the columns of your data. Use small labels without any space!**"
   ]
  },
  {
   "cell_type": "markdown",
   "id": "61eef646",
   "metadata": {},
   "source": [
    "We can use the `file_object.at[index of row, 'label of column']` to have access to one variable located at specific row and column. Look at the following cell"
   ]
  },
  {
   "cell_type": "code",
   "execution_count": null,
   "id": "92d808e4",
   "metadata": {},
   "outputs": [],
   "source": [
    "file4.at[1, 'peryeartemperature']"
   ]
  },
  {
   "cell_type": "markdown",
   "id": "3ca59912",
   "metadata": {},
   "source": [
    "Now I replace 'peryeartemperature' by 2, as the third column of our data.\n",
    "\n",
    "Do you think the next syntax works or not?"
   ]
  },
  {
   "cell_type": "code",
   "execution_count": null,
   "id": "3bcbe348",
   "metadata": {},
   "outputs": [],
   "source": [
    "#file4.at[1, 2]"
   ]
  },
  {
   "cell_type": "markdown",
   "id": "7372ea44",
   "metadata": {},
   "source": [
    "What about the next syntax?"
   ]
  },
  {
   "cell_type": "code",
   "execution_count": null,
   "id": "f65cba6d",
   "metadata": {},
   "outputs": [],
   "source": [
    "#file5[1, 2]"
   ]
  },
  {
   "cell_type": "markdown",
   "id": "5816b0cc",
   "metadata": {},
   "source": [
    "The only difference between file4 and file5 is that: file4 is DataFrame and file5 is Array.\n",
    "It is more easier to work with Arrays because we can have access to the values only by knowing the index of row and column."
   ]
  },
  {
   "cell_type": "markdown",
   "id": "9d46aeaa",
   "metadata": {},
   "source": [
    "**IMPORTANT**\n",
    "\n",
    "If you review the previous syntaxes, we used :\n",
    "\n",
    "`file4.columns` <br>\n",
    "`file4.index`   <br>\n",
    "`file4.size`    <br>\n",
    "\n",
    "Why we did not use instead the following syntaxes? What happens if we use them? Try!\n",
    "\n",
    "`file4.columns()`  <br>\n",
    "`file4.index()`    <br>\n",
    "`file4.size()`     <br>\n",
    "\n",
    "# Exercise 1\n",
    "If you do not know the answer right now, I wait for the answer of this question from you as an exercise."
   ]
  },
  {
   "cell_type": "code",
   "execution_count": null,
   "id": "17766eeb",
   "metadata": {},
   "outputs": [],
   "source": [
    "#Delete the comment line by line and run it to see the result\n",
    "\n",
    "#file4.columns()\n",
    "#file4.index()\n",
    "#file4.size()"
   ]
  },
  {
   "cell_type": "markdown",
   "id": "5e8576e7",
   "metadata": {},
   "source": [
    "# 9.2 Reading CSV Files "
   ]
  },
  {
   "cell_type": "markdown",
   "id": "df7ceb73",
   "metadata": {},
   "source": [
    "CSV stands for \"Comma Separated Values\"\n",
    "\n",
    "Same as Excel sheets we can read the .csv files as DataFrame. Then we can convert them to Arrays and easily work with them as we learned in section 9.1"
   ]
  },
  {
   "cell_type": "code",
   "execution_count": null,
   "id": "ebc19a77",
   "metadata": {},
   "outputs": [],
   "source": [
    "file6 = pd.read_csv('Digibau3_CSVFile.csv')         #Reading as DataFrame\n",
    "\n",
    "print(file6)"
   ]
  },
  {
   "cell_type": "code",
   "execution_count": null,
   "id": "6f22cb74",
   "metadata": {},
   "outputs": [],
   "source": [
    "type(file6)"
   ]
  },
  {
   "cell_type": "code",
   "execution_count": null,
   "id": "bcee7921",
   "metadata": {},
   "outputs": [],
   "source": [
    "file6.head()           #Getting the first 5 rows"
   ]
  },
  {
   "cell_type": "code",
   "execution_count": null,
   "id": "a427f9ed",
   "metadata": {},
   "outputs": [],
   "source": [
    "#type(file6.head()"
   ]
  },
  {
   "cell_type": "markdown",
   "id": "06a8080d",
   "metadata": {},
   "source": [
    "Convert file6 as a DataFrame into an Array. Name it as file6_array:"
   ]
  },
  {
   "cell_type": "code",
   "execution_count": null,
   "id": "3dcdecbb",
   "metadata": {},
   "outputs": [],
   "source": [
    "#file6_array = "
   ]
  },
  {
   "cell_type": "markdown",
   "id": "cef0e3c4",
   "metadata": {},
   "source": [
    "Get the value of the last row and last column of file6_array"
   ]
  },
  {
   "cell_type": "code",
   "execution_count": null,
   "id": "2017b999",
   "metadata": {},
   "outputs": [],
   "source": []
  },
  {
   "cell_type": "markdown",
   "id": "a130847d",
   "metadata": {},
   "source": [
    "Another possibility to read .csv files is using a Python module being called `csv`."
   ]
  },
  {
   "cell_type": "code",
   "execution_count": null,
   "id": "aaacb159",
   "metadata": {},
   "outputs": [],
   "source": [
    "import csv as csv \n",
    "\n",
    "file7 = open('Digibau3_CSVFile.csv')\n",
    "file7_content = csv.reader(file7)       \n",
    "\n",
    "#type(file7)"
   ]
  },
  {
   "cell_type": "code",
   "execution_count": null,
   "id": "797bffb2",
   "metadata": {},
   "outputs": [],
   "source": [
    "type(file7_content)      #file7_content is not a DataFrame and it is not an Array"
   ]
  },
  {
   "cell_type": "markdown",
   "id": "3f6b3b32",
   "metadata": {},
   "source": [
    "The out put of csv.reader( ) is a **reader object**. \n",
    "This means we cannot print the content of the file just by printing. Let us try:"
   ]
  },
  {
   "cell_type": "code",
   "execution_count": null,
   "id": "9fd61a6d",
   "metadata": {},
   "outputs": [],
   "source": [
    "print(file7_content)"
   ]
  },
  {
   "cell_type": "code",
   "execution_count": null,
   "id": "66a74ba0",
   "metadata": {},
   "outputs": [],
   "source": [
    "# How to read the content of .csv file after reading it through csv module?\n",
    "\n",
    "\n",
    "# Check it out\n",
    "import csv\n",
    "file8 = csv.DictReader(file7)\n",
    "\n",
    "#type(file8)\n",
    "    \n",
    "for row in file8:\n",
    "    print (row)"
   ]
  },
  {
   "cell_type": "code",
   "execution_count": null,
   "id": "bdffd9bd",
   "metadata": {},
   "outputs": [],
   "source": [
    "#file8 is NOT a dictionary, it is a DictReader object. Do not expect to perform operations on it like a dictionary\n",
    "# Does the next syntax work or not?\n",
    "file8.keys()"
   ]
  },
  {
   "cell_type": "markdown",
   "id": "33204670",
   "metadata": {},
   "source": [
    "I think it is clear now that why it is more easier to open a .csv file as a DataFrame using Pandas library and then converting it into an Array. Probably the mindset of developers of Pandas library was making life easier for those who work with files!"
   ]
  },
  {
   "cell_type": "markdown",
   "id": "c90277cb",
   "metadata": {},
   "source": [
    "# Exercise 2\n",
    "\n",
    "Write a loop which generates a 10 x 5 (row x column) array called **Grade**: <br>\n",
    "    The first column contains alphabets starting from 'A' <br>\n",
    "    The second columns are random values between 0 to 1 <br>\n",
    "    The third column contains integers between 10 to 100 with any incrementation you desire <br>\n",
    "    The fourth column contains the name of the months starting from 'January'<br>\n",
    "\n",
    "- Print the contains of Garde in an Excel sheet\n",
    "- Print the contains of Garde as a .csv file\n",
    "- Generate a new Excel file containg only column 2 and 3\n",
    "- Merge the data available in the new generated Excel File with the original one"
   ]
  },
  {
   "cell_type": "markdown",
   "id": "a2be23c8",
   "metadata": {},
   "source": [
    "# Exercise 3: How to deal with a text file with any other delimiter rather than comma?"
   ]
  },
  {
   "cell_type": "markdown",
   "id": "4e8590cc",
   "metadata": {},
   "source": [
    "Consider the following example taken from the documentation of Python:"
   ]
  },
  {
   "cell_type": "markdown",
   "id": "38066ff4",
   "metadata": {},
   "source": [
    "```Python\n",
    "with open('example.csv', newline='') as csvfile:\n",
    "    dialect = csv.Sniffer().sniff(csvfile.read(1024))\n",
    "    csvfile.seek(0)\n",
    "    reader = csv.reader(csvfile, dialect)\n",
    "    # ... process CSV file contents here ...\n",
    "```"
   ]
  },
  {
   "cell_type": "markdown",
   "id": "48d2d21b",
   "metadata": {},
   "source": [
    "Think about it: Which new methods for csv module are used?"
   ]
  },
  {
   "cell_type": "markdown",
   "id": "5b84f827",
   "metadata": {},
   "source": [
    "The `csv.Sniffer()` class owns `sniff()` method. The output of the `sniff()` method is an object from dialect class. "
   ]
  },
  {
   "cell_type": "markdown",
   "id": "a4c7ac2d",
   "metadata": {},
   "source": [
    "To change the position of the handle in the file object, use `NAME_OF_FILEOBJECT.seek(offset, whence)`. \n",
    "\n",
    "A `whence` value of 0 measures from the beginning of the file, 1 uses the current file position, and 2 uses the end of the file as the reference point. `whence` can be omitted and default is 0, using the beginning of the file as the reference point.\n",
    "The position is computed from adding `offset` to a reference point; the reference point is selected by the whence argument. "
   ]
  },
  {
   "cell_type": "markdown",
   "id": "c2530db6",
   "metadata": {},
   "source": [
    "Generate a small text file containing the following data with a delimiter, as an example, `;` or `|`\n",
    "\n",
    "1.0;2.0;3.0;<br>\n",
    "4.0;5.0;6.0;<br>\n",
    "7.0;8.0;9.0;<br>\n",
    "\n",
    "\n",
    "Name it as 'data.txt'\n",
    "Modify the following path of your file in the next cell and run the next cell. You will get error without modifying the path according to your computer.\n",
    "Check the generated file named as 'mydata.csv' to see the difference."
   ]
  },
  {
   "cell_type": "code",
   "execution_count": null,
   "id": "26a1d1ef",
   "metadata": {},
   "outputs": [],
   "source": [
    "import csv\n",
    "\n",
    "file_input_loc = r'/Users/Mana/Downloads/data.txt'                    # Path of the data.txt file as an input           \n",
    "file_output_loc = r'/Users/Mana/Downloads/mydata.csv'                 # Path of the mydata.txt file as an output\n",
    "with open(file_input_loc, 'r') as file_in, open(file_output_loc, 'w') as file_out:\n",
    "    dialect = csv.Sniffer().sniff(file_in.read(), \";\")                # Detecting the delimiter\n",
    "    #print(dialect)\n",
    "    #print(dialect.delimiter)\n",
    "    file_in.seek(0)\n",
    "    rows_in = csv.reader(file_in, delimiter=dialect.delimiter)\n",
    "    #print(rows_input)\n",
    "    rows_out = csv.writer(file_out,delimiter=',')\n",
    "    #print(rows_out)\n",
    "    rows_out.writerows(rows_in)"
   ]
  },
  {
   "cell_type": "code",
   "execution_count": null,
   "id": "413d32ee",
   "metadata": {},
   "outputs": [],
   "source": []
  },
  {
   "cell_type": "code",
   "execution_count": null,
   "id": "2d01fcd0",
   "metadata": {},
   "outputs": [],
   "source": []
  },
  {
   "cell_type": "markdown",
   "id": "56e155ad",
   "metadata": {},
   "source": [
    "Useful links to the documentation of Pandas and NumPy: \n",
    "\n",
    "https://pandas.pydata.org/docs/getting_started/intro_tutorials/index.html\n",
    "\n",
    "https://numpy.org/doc/stable/user/absolute_beginners.html\n",
    "\n",
    "Useful links to the documentation of Python relevant to Files and csv module:\n",
    "\n",
    "https://docs.python.org/3/tutorial/inputoutput.html\n",
    "\n",
    "\n",
    "https://docs.python.org/3/library/csv.html\n",
    "\n",
    "\n",
    "Write to me if there is any question regarding the content:  mana.mohajer@uni-due.de"
   ]
  },
  {
   "cell_type": "code",
   "execution_count": null,
   "id": "d4512e7a",
   "metadata": {},
   "outputs": [],
   "source": []
  }
 ],
 "metadata": {
  "kernelspec": {
   "display_name": "Python 3",
   "language": "python",
   "name": "python3"
  },
  "language_info": {
   "codemirror_mode": {
    "name": "ipython",
    "version": 3
   },
   "file_extension": ".py",
   "mimetype": "text/x-python",
   "name": "python",
   "nbconvert_exporter": "python",
   "pygments_lexer": "ipython3",
   "version": "3.8.8"
  }
 },
 "nbformat": 4,
 "nbformat_minor": 5
}
